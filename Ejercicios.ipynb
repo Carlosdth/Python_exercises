{
 "cells": [
  {
   "cell_type": "markdown",
   "id": "9d14e1ed",
   "metadata": {},
   "source": [
    "### 1. Write a function that returns both the minimum and maximum number of the given list/array."
   ]
  },
  {
   "cell_type": "code",
   "execution_count": null,
   "id": "2113c9cd",
   "metadata": {
    "scrolled": true
   },
   "outputs": [],
   "source": [
    "def min_max(lst):\n",
    "    return [min(lst), max(lst)]\n",
    "\n",
    "print(min_max([1,2,3,4,5]))"
   ]
  },
  {
   "cell_type": "markdown",
   "id": "f219b7b9",
   "metadata": {},
   "source": [
    "### 1.1 Define a function max_of_three(), which takes three numbers as arguments and returns the largest of them"
   ]
  },
  {
   "cell_type": "code",
   "execution_count": null,
   "id": "23a21e77",
   "metadata": {},
   "outputs": [],
   "source": [
    "def max_de_tres(x,y,z):\n",
    "    if x > y and x > z:\n",
    "        return x\n",
    "    elif y > x and y > z:\n",
    "        return y\n",
    "    else:\n",
    "        return z\n",
    "\n",
    "print(max_de_tres(78,7,5))"
   ]
  },
  {
   "cell_type": "markdown",
   "id": "02c76bb4",
   "metadata": {},
   "source": [
    "### 2.  Return an array, where the first element is the count of positives numbers and the second element is sum of negative numbers. 0 is neither positive nor negative. If the input is an empty array or is null, return an empty array"
   ]
  },
  {
   "cell_type": "code",
   "execution_count": null,
   "id": "c0d077d2",
   "metadata": {},
   "outputs": [],
   "source": [
    "def count_positives_sum_negatives(arr):\n",
    "    if not arr:return []\n",
    "    \n",
    "    count_pos= 0\n",
    "    sum_neg= 0\n",
    "    \n",
    "    for i in arr:\n",
    "        if i > 0:\n",
    "            count_pos+= 1\n",
    "        elif i < 0:\n",
    "            sum_neg+= i\n",
    "        \n",
    "    return [count_pos,sum_neg]\n",
    "\n",
    "print(count_positives_sum_negatives([1, 2, 3, 4, 5, 6, 7, 8, 9, 10, -11, -12, -13, -14, -15]))"
   ]
  },
  {
   "cell_type": "markdown",
   "id": "ee6dd523",
   "metadata": {},
   "source": [
    "### 3. Find the first element of an array that is not consecutive."
   ]
  },
  {
   "cell_type": "code",
   "execution_count": null,
   "id": "f271a1b0",
   "metadata": {},
   "outputs": [],
   "source": [
    "def first_non_consecutive(arr):\n",
    "    \n",
    "    numero= arr[0]\n",
    "    \n",
    "    for i in arr:\n",
    "        if i != numero:\n",
    "            return i\n",
    "        numero = i + 1    \n",
    "\n",
    "print(first_non_consecutive([-5,-4,-3,-1]))"
   ]
  },
  {
   "cell_type": "markdown",
   "id": "49cec430",
   "metadata": {},
   "source": [
    "### 4. Find the next integral perfect square after the one passed as a parameter."
   ]
  },
  {
   "cell_type": "code",
   "execution_count": null,
   "id": "d5b8dfb3",
   "metadata": {},
   "outputs": [],
   "source": [
    "import math\n",
    "\n",
    "def find_next_square(sq):\n",
    "    if math.sqrt(sq) - int(math.sqrt(sq)) == 0:\n",
    "        return (math.sqrt(sq) + 1)**2\n",
    "    else:\n",
    "        return -1\n",
    "\n",
    "print(find_next_square(121))"
   ]
  },
  {
   "cell_type": "markdown",
   "id": "34527189",
   "metadata": {},
   "source": [
    "### 5. Given an array of integers, remove the smallest value."
   ]
  },
  {
   "cell_type": "code",
   "execution_count": null,
   "id": "c5ca9c8b",
   "metadata": {},
   "outputs": [],
   "source": [
    "def remove_smallest(numbers):\n",
    "    \n",
    "    a= numbers[:]\n",
    "    if a:\n",
    "        a.remove(min(a))\n",
    "    return a\n",
    "\n",
    "print(remove_smallest([5, 3, 2, 1, 4]))"
   ]
  },
  {
   "cell_type": "markdown",
   "id": "1812df05",
   "metadata": {},
   "source": [
    "### 6. Create a function with two arguments that will return an array of the first (n) multiples of (x)."
   ]
  },
  {
   "cell_type": "code",
   "execution_count": null,
   "id": "843b38ed",
   "metadata": {},
   "outputs": [],
   "source": [
    "def count_by(x, n):\n",
    "    z= x*n+1\n",
    "    a=list(range(x, z, x))\n",
    "    return a\n",
    "    \n",
    "print(count_by(50, 5))"
   ]
  },
  {
   "cell_type": "markdown",
   "id": "577f5755",
   "metadata": {},
   "source": [
    "### 7. Build a pyramid-shaped tower given a positive integer number of floors. A tower block is represented with \"*\" character."
   ]
  },
  {
   "cell_type": "code",
   "execution_count": null,
   "id": "dbb81e27",
   "metadata": {},
   "outputs": [],
   "source": [
    "def tower_builder(n):\n",
    "    \n",
    "    x= list(range(1,(n*2),2))\n",
    "    lista= []\n",
    "    for i in x:\n",
    "        a= (((x[-1]-i)//2)*' ') + i * '*'+ (((x[-1]-i)//2)*' ')\n",
    "        lista.append(a)\n",
    "    return lista\n",
    "\n",
    "print(tower_builder(7))"
   ]
  },
  {
   "cell_type": "markdown",
   "id": "3705842a",
   "metadata": {},
   "source": [
    "### 8. Write a python program to print all the positive numbers in a list in the range K to N. Assume N and K are integers."
   ]
  },
  {
   "cell_type": "code",
   "execution_count": null,
   "id": "191846fc",
   "metadata": {},
   "outputs": [],
   "source": [
    "def positiveNumber(K,N):\n",
    "  \n",
    "  list= []\n",
    "  \n",
    "  for i in range(K,N+1):\n",
    "    if i > 0:\n",
    "      list.append(i)\n",
    "  return list\n",
    "\n",
    "print(positiveNumber(-100,15))"
   ]
  },
  {
   "cell_type": "markdown",
   "id": "abc0d7d2",
   "metadata": {},
   "source": [
    "### 9. Adds a and b together and returns a binary string"
   ]
  },
  {
   "cell_type": "code",
   "execution_count": null,
   "id": "92aa36e3",
   "metadata": {},
   "outputs": [],
   "source": [
    "def add_binary(a,b):\n",
    "    print(str(format(a + b, 'b')))\n",
    "\n",
    "add_binary(5,9)"
   ]
  },
  {
   "cell_type": "markdown",
   "id": "703e3a66",
   "metadata": {},
   "source": [
    "### 10. Capitalize"
   ]
  },
  {
   "cell_type": "code",
   "execution_count": null,
   "id": "482f3926",
   "metadata": {},
   "outputs": [],
   "source": [
    "def to_jaden_case(string):\n",
    "\n",
    "    string_split = string.split()\n",
    "    string_r= []\n",
    "    for i in string_split:\n",
    "        i = i.capitalize()\n",
    "        string_r.append(i)\n",
    "    return ' '.join(string_r)\n",
    "\n",
    "print(to_jaden_case(\"How can mirrors be real if our eyes aren't real\"))"
   ]
  },
  {
   "cell_type": "markdown",
   "id": "a93ea226",
   "metadata": {},
   "source": [
    "### 11. Given an array (arr) as an argument, complete the function countSmileys which should return the total number of smiley faces."
   ]
  },
  {
   "cell_type": "code",
   "execution_count": null,
   "id": "6a1f2f50",
   "metadata": {},
   "outputs": [],
   "source": [
    "def count_smileys(arr):\n",
    "\n",
    "    eye= [':',';']\n",
    "    smile= [')','D']\n",
    "    cont= 0\n",
    "\n",
    "    for i in arr:\n",
    "        for j in i:\n",
    "            if j in (eye and smile):\n",
    "                cont += 1\n",
    "    return cont\n",
    "\n",
    "print(count_smileys([':)',':D',';-)',':']))"
   ]
  },
  {
   "cell_type": "markdown",
   "id": "135af0f2",
   "metadata": {},
   "source": [
    "### 12. In a small town the population is at p0 beginning of a year, the population increases regularly % per year and, in addition, x inhabitants per year come to live in the city. How many years does the town need to see its population greater than or equal to p?"
   ]
  },
  {
   "cell_type": "code",
   "execution_count": null,
   "id": "f5a06f34",
   "metadata": {},
   "outputs": [],
   "source": [
    "def nb_year(p0, percent, aug, p):\n",
    "    perc= (percent/100)\n",
    "    n=0\n",
    "\n",
    "    while p > p0:\n",
    "        n += 1        \n",
    "        p0 = p0 + (p0 * perc) + aug            \n",
    "    return n\n",
    "\n",
    "print(nb_year(1500000, 2.5, 10000, 2000000))"
   ]
  },
  {
   "cell_type": "markdown",
   "id": "e08a4b83",
   "metadata": {},
   "source": [
    "### 13. Is square?"
   ]
  },
  {
   "cell_type": "code",
   "execution_count": null,
   "id": "51129e70",
   "metadata": {},
   "outputs": [],
   "source": [
    "def is_square(n):\n",
    "\n",
    "    if n == (((n**0.5) * (n**0.5))):\n",
    "        print(f'{n} is a square number of ({int(n**0.5)} * {int(n**0.5)})')\n",
    "    elif n < 0:\n",
    "        print('Negative numbers dont have a square')\n",
    "    else:\n",
    "        print(f'{n} is not a square number')\n",
    "\n",
    "is_square(-34365)"
   ]
  },
  {
   "cell_type": "markdown",
   "id": "4dfda47c",
   "metadata": {},
   "source": [
    "### 13. Create a function called divisors that takes an integer n > 1 and return an array with all divisors of the integer (except 1 and the number itself), from the smallest to the largest. If the number is prime, return the string 'is prime'"
   ]
  },
  {
   "cell_type": "code",
   "execution_count": 17,
   "id": "6c0b5927",
   "metadata": {},
   "outputs": [
    {
     "name": "stdout",
     "output_type": "stream",
     "text": [
      "[2, 3, 4, 6, 8, 12]\n"
     ]
    }
   ],
   "source": [
    "def divisors(n):\n",
    "    mat = []\n",
    "    for i in range(2,n+1):   \n",
    "        if n % i == 0 and n != i:\n",
    "            mat.append(i)                   \n",
    "    if mat == []:\n",
    "        mat = str(n) +' is prime'     \n",
    "    return mat    \n",
    "\n",
    "print(divisors(24))"
   ]
  },
  {
   "cell_type": "markdown",
   "id": "633860c1",
   "metadata": {},
   "source": [
    "### 14. There is an array with some numbers. All numbers are the same except one. Try to find it!"
   ]
  },
  {
   "cell_type": "code",
   "execution_count": 21,
   "id": "308edf37",
   "metadata": {},
   "outputs": [
    {
     "name": "stdout",
     "output_type": "stream",
     "text": [
      "9\n"
     ]
    }
   ],
   "source": [
    "def find_uniq(arr):\n",
    "    for num in arr:\n",
    "        if num != (arr[0] and arr[-1]):\n",
    "            return num       \n",
    "\n",
    "print(find_uniq([1, 1, 1, 1, 9, 1]))"
   ]
  },
  {
   "cell_type": "markdown",
   "id": "f3677e45",
   "metadata": {},
   "source": [
    "### 15. You need to remove all values from list a, which are present in list b keeping their order."
   ]
  },
  {
   "cell_type": "code",
   "execution_count": 22,
   "id": "869a926d",
   "metadata": {},
   "outputs": [
    {
     "name": "stdout",
     "output_type": "stream",
     "text": [
      "[3]\n"
     ]
    }
   ],
   "source": [
    "def array_diff(a, b):\n",
    "    array_diff = []\n",
    "\n",
    "    for i in a:\n",
    "        if i not in b:\n",
    "            array_diff.append(i)\n",
    "    return array_diff    \n",
    "\n",
    "print(array_diff([1,2,3],[1, 2]))"
   ]
  },
  {
   "cell_type": "markdown",
   "id": "0491f461",
   "metadata": {},
   "source": [
    "### 16. Roman numerals"
   ]
  },
  {
   "cell_type": "code",
   "execution_count": 24,
   "id": "eb170bab",
   "metadata": {},
   "outputs": [
    {
     "name": "stdout",
     "output_type": "stream",
     "text": [
      "20\n"
     ]
    }
   ],
   "source": [
    "def solution(romano):    \n",
    "\n",
    "    romanos= {'I': 1, 'V' : 5, 'X' : 10, 'L' : 50, 'C': 100, 'D' : 500, 'M' : 1000}\n",
    "    entero= 0\n",
    "\n",
    "    for i in range(len(romano)):\n",
    "        if i > 0 and romanos[romano[i]] > romanos[romano[i - 1]]:\n",
    "            entero += romanos[romano[i]] - 2 * romanos[romano[i - 1]]\n",
    "        else:\n",
    "            entero += romanos[romano[i]]\n",
    "    return entero\n",
    "\n",
    "print(solution('XX'))"
   ]
  },
  {
   "cell_type": "markdown",
   "id": "12c79ef5",
   "metadata": {},
   "source": [
    "### 17. They give you the total volume m of the building. Given m, can you find the number n of cubes you will have to build?"
   ]
  },
  {
   "cell_type": "code",
   "execution_count": 25,
   "id": "61c4dec0",
   "metadata": {},
   "outputs": [
    {
     "name": "stdout",
     "output_type": "stream",
     "text": [
      "2022\n"
     ]
    }
   ],
   "source": [
    "def find_nb(m):\n",
    "    suma= 0\n",
    "    n=0\n",
    "    while suma < m:\n",
    "        n += 1\n",
    "        suma += n**3\n",
    "    if suma==m:\n",
    "        return n\n",
    "    elif suma != m:\n",
    "        return -1\n",
    "    \n",
    "\n",
    "print(find_nb(4183059834009))"
   ]
  },
  {
   "cell_type": "markdown",
   "id": "473a1f0d",
   "metadata": {},
   "source": [
    "### 18. Given n, take the sum of the digits of n. If that value has more than one digit, continue reducing in this way until a single digit number is produced. The input will be a non-negative integer."
   ]
  },
  {
   "cell_type": "code",
   "execution_count": 26,
   "id": "05db1243",
   "metadata": {},
   "outputs": [
    {
     "name": "stdout",
     "output_type": "stream",
     "text": [
      "6\n"
     ]
    }
   ],
   "source": [
    "def digital_root(n):\n",
    "\n",
    "    while n >= 9:\n",
    "        num = 0\n",
    "        for i in str(n):\n",
    "            num += int(i)\n",
    "            n = num\n",
    "    return n\n",
    "       \n",
    "print(digital_root(132189))"
   ]
  },
  {
   "cell_type": "markdown",
   "id": "77879f46",
   "metadata": {},
   "source": [
    "### 19. Check if a string has the same number of 'x's and 'o's."
   ]
  },
  {
   "cell_type": "code",
   "execution_count": 28,
   "id": "a551e1f0",
   "metadata": {},
   "outputs": [
    {
     "name": "stdout",
     "output_type": "stream",
     "text": [
      "False\n"
     ]
    }
   ],
   "source": [
    "def xo(s):\n",
    "    cont_x= 0\n",
    "    cont_o= 0\n",
    "    for i in s:\n",
    "        if i.lower() == 'x':\n",
    "            cont_x+=1\n",
    "        \n",
    "        if i.lower() == 'o':\n",
    "            cont_o+=1\n",
    "        \n",
    "    return cont_x==cont_o\n",
    "    \n",
    "    \n",
    "print(xo('xxoooo'))"
   ]
  },
  {
   "cell_type": "markdown",
   "id": "1f27f677",
   "metadata": {},
   "source": [
    "### 20. Acronym"
   ]
  },
  {
   "cell_type": "code",
   "execution_count": null,
   "id": "02f56cc7",
   "metadata": {},
   "outputs": [],
   "source": [
    "palabras = input('Ingrese un nombre: ')\n",
    "\n",
    "def acronimo(palabras):\n",
    "    palabras = palabras.split()\n",
    "    letra = ''\n",
    "    for i in palabras:\n",
    "        if i != 'and':\n",
    "            letra += str(i[0])\n",
    "    return letra.upper()\n",
    "\n",
    "result = acronimo(palabras)\n",
    "print(result)"
   ]
  },
  {
   "cell_type": "markdown",
   "id": "ad2bee40",
   "metadata": {},
   "source": [
    "### 21. Even or odd"
   ]
  },
  {
   "cell_type": "code",
   "execution_count": null,
   "id": "5655170d",
   "metadata": {},
   "outputs": [],
   "source": [
    "x = int(input('Put a number between 1 and 1000:'))\n",
    "\n",
    "if x%2 == 0:\n",
    "    print('Even')\n",
    "else:\n",
    "    print('Odd')"
   ]
  },
  {
   "cell_type": "markdown",
   "id": "0687b38a",
   "metadata": {},
   "source": [
    "### 22. Define a function that calculates the length of a given list or string."
   ]
  },
  {
   "cell_type": "code",
   "execution_count": null,
   "id": "f3815d15",
   "metadata": {},
   "outputs": [],
   "source": [
    "def longitud(lista):\n",
    "    cont = 0\n",
    "    for i in lista:\n",
    "        cont += 1        \n",
    "    print(cont)\n",
    "        \n",
    "    \n",
    "\n",
    "x=[3, 8,'casa', 4, 45, 'perro']\n",
    "\n",
    "longitud(x)"
   ]
  },
  {
   "cell_type": "markdown",
   "id": "749c1af7",
   "metadata": {},
   "source": [
    "### 23. Write a function that takes a character and returns True if it is a vowel, otherwise returns False."
   ]
  },
  {
   "cell_type": "code",
   "execution_count": null,
   "id": "742df232",
   "metadata": {},
   "outputs": [],
   "source": [
    "def vocal(x):\n",
    "    if x in ['a', 'e' , 'i', 'o', 'u'] or ['A','E','I','O','U']:\n",
    "        print(True)\n",
    "    else:\n",
    "        print(False)\n",
    "\n",
    "\n",
    "vocal('A')"
   ]
  },
  {
   "cell_type": "markdown",
   "id": "f53c7c29",
   "metadata": {},
   "source": [
    "### 24. Write a sum() function and a multip() function that respectively add and multiply all the numbers in a list."
   ]
  },
  {
   "cell_type": "code",
   "execution_count": null,
   "id": "15fbe1d9",
   "metadata": {},
   "outputs": [],
   "source": [
    "def sum(lista):\n",
    "    cont=0\n",
    "    for i in lista:\n",
    "        cont+=i\n",
    "    print(cont)  \n",
    "\n",
    "sum([3,14,7,4])  \n",
    "\n",
    "\n",
    "def multip(lista):\n",
    "    cont= 1\n",
    "    for i in lista:\n",
    "        cont*=i\n",
    "    print(cont)\n",
    "\n",
    "multip([1,2,3,4])"
   ]
  },
  {
   "cell_type": "markdown",
   "id": "cfbc804d",
   "metadata": {},
   "source": [
    "### 25. Define a function inverse() that calculates the inversion of a string."
   ]
  },
  {
   "cell_type": "code",
   "execution_count": null,
   "id": "88a9f3ae",
   "metadata": {},
   "outputs": [],
   "source": [
    "def inversa(cadena):\n",
    "    print(cadena[::-1])\n",
    "\n",
    "inversa('navidad')"
   ]
  },
  {
   "cell_type": "markdown",
   "id": "9b1c65be",
   "metadata": {},
   "source": [
    "### 26. Define a function is_palindrome() that recognizes palindromes."
   ]
  },
  {
   "cell_type": "code",
   "execution_count": null,
   "id": "ef6f52ca",
   "metadata": {},
   "outputs": [],
   "source": [
    "def es_palindromo(cadena):\n",
    "    if cadena == cadena[::-1]:\n",
    "        print(True)\n",
    "    else:\n",
    "        print(False)\n",
    "\n",
    "\n",
    "es_palindromo('radar')"
   ]
  },
  {
   "cell_type": "markdown",
   "id": "9c863f67",
   "metadata": {},
   "source": [
    "### 27. Define an overlay() function that takes two lists and return True if they have at least 1 member in common, or return False otherwise. Write the function using the nested for loop."
   ]
  },
  {
   "cell_type": "code",
   "execution_count": null,
   "id": "5e7073c2",
   "metadata": {},
   "outputs": [],
   "source": [
    "def superposicion(lista1, lista2):\n",
    "    for i in lista1:\n",
    "        for j in lista2:\n",
    "    \n",
    "            if i == j:\n",
    "                return True\n",
    "    return False\n",
    "            \n",
    "\n",
    "print(superposicion([1,2,3,4],[5,2,7,1]))"
   ]
  },
  {
   "cell_type": "markdown",
   "id": "07bac6ab",
   "metadata": {},
   "source": [
    "### 28. Define a function generate_n_characters() that takes an integer n and returns the character multiplied by n."
   ]
  },
  {
   "cell_type": "code",
   "execution_count": null,
   "id": "34be055c",
   "metadata": {},
   "outputs": [],
   "source": [
    "def generar_n_caracteres(int, str):\n",
    "    print(int * str)\n",
    "\n",
    "\n",
    "generar_n_caracteres(5,'E')"
   ]
  },
  {
   "cell_type": "markdown",
   "id": "67cf37f5",
   "metadata": {},
   "source": [
    "### 29. Define a histogram() procedure which takes a list of integers and prints a histogram to the screen"
   ]
  },
  {
   "cell_type": "code",
   "execution_count": null,
   "id": "6903b1f4",
   "metadata": {},
   "outputs": [],
   "source": [
    "def procedimiento(lista):\n",
    "    for num in lista:\n",
    "        print(num * '*')\n",
    "\n",
    "\n",
    "procedimiento([20,5,82])"
   ]
  },
  {
   "cell_type": "markdown",
   "id": "ee3c1238",
   "metadata": {},
   "source": [
    "### 30. Insert element at kth position of a list "
   ]
  },
  {
   "cell_type": "code",
   "execution_count": null,
   "id": "1918d46e",
   "metadata": {},
   "outputs": [],
   "source": [
    "list= [23, 'hey', 'o', 100, 'Python']\n",
    "print('Lista original', list)\n",
    "\n",
    "n= input('escribe un elemento: ')\n",
    "\n",
    "k= int(input('Entra un numero entre 0 y '+ str(len(list)) + ': '))\n",
    "\n",
    "list.append(k)\n",
    "\n",
    "for i in range(0, len(list)):\n",
    "    if i >= k:\n",
    "        temp= list[i]\n",
    "        list[i]=n\n",
    "        n= temp\n",
    "\n",
    "print('Lista nueva', list)"
   ]
  },
  {
   "cell_type": "markdown",
   "id": "93a1cd25",
   "metadata": {},
   "source": [
    "### 31. Split Strings"
   ]
  },
  {
   "cell_type": "code",
   "execution_count": null,
   "id": "235d0cf4",
   "metadata": {},
   "outputs": [],
   "source": [
    "test= 'is2 Thi1s T4est 3a'\n",
    "test_splt= test.split()\n",
    "lista= []\n",
    "\n",
    "def order(sentence):\n",
    "    result= []\n",
    "    split_up = sentence.split() \n",
    "  \n",
    "    for i in range(1,10):\n",
    "        for item in split_up:\n",
    "            if str(i) in item:\n",
    "                 result.append(item)    \n",
    "  \n",
    "    return \" \".join(result)\n",
    "\n",
    "\n",
    "order('is2 Thi1s T4est 3a')"
   ]
  },
  {
   "cell_type": "markdown",
   "id": "e14dcd14",
   "metadata": {},
   "source": [
    "### 32. Check if a substring is present in a string without using de find() method"
   ]
  },
  {
   "cell_type": "code",
   "execution_count": null,
   "id": "36a4a314",
   "metadata": {},
   "outputs": [],
   "source": [
    "st= input('Enter a String: ')\n",
    "sub= input('Enter a Substring: ')\n",
    "\n",
    "l= len(sub)\n",
    "\n",
    "contador= 0\n",
    "\n",
    "for i in range(0, len(st)):\n",
    "    if sub == st[i:i+l]:\n",
    "        contador += 1\n",
    "        print('substring %s, encontrado en la posicion %d'%(sub, i))\n",
    "\n",
    "if contador == 0:\n",
    "    print('substring not found')\n",
    "else:\n",
    "    print('substring %s, encontrado %d veces'%(sub, contador))"
   ]
  },
  {
   "cell_type": "markdown",
   "id": "665944b2",
   "metadata": {},
   "source": [
    "### 33. Valid braces"
   ]
  },
  {
   "cell_type": "code",
   "execution_count": null,
   "id": "df75262e",
   "metadata": {},
   "outputs": [],
   "source": [
    "def validBraces(string):\n",
    "    braces = {\"(\": \")\", \"[\": \"]\", \"{\": \"}\"}\n",
    "    stack = []\n",
    "    for character in string:\n",
    "        if character in braces.keys():\n",
    "            stack.append(character)\n",
    "        else:\n",
    "            if len(stack) == 0 or braces[stack.pop()] != character:\n",
    "                return False\n",
    "    return len(stack) == 0  \n",
    "\n",
    "\n",
    "\n",
    "print(validBraces('casa()nada'))\n"
   ]
  },
  {
   "cell_type": "markdown",
   "id": "fa9d1d27",
   "metadata": {},
   "source": [
    "### 34. Multiples of 3 and 5"
   ]
  },
  {
   "cell_type": "code",
   "execution_count": null,
   "id": "2918d682",
   "metadata": {},
   "outputs": [],
   "source": [
    "def multiplo (num):\n",
    "    suma = 0\n",
    "    for i in range(1, num + 1):\n",
    "        if i % 3 == 0 or i % 5 == 0:\n",
    "            suma += i\n",
    "    return suma\n",
    "           \n",
    "\n",
    "print(multiplo(19564))"
   ]
  },
  {
   "cell_type": "markdown",
   "id": "9313a1e1",
   "metadata": {},
   "source": [
    "### 35. Write a longest() function that takes a list of words and returns the longest."
   ]
  },
  {
   "cell_type": "code",
   "execution_count": null,
   "id": "d56a657f",
   "metadata": {},
   "outputs": [],
   "source": [
    "def mas_larga(lista):\n",
    "    letras = ''\n",
    "    for palabra in lista:\n",
    "        if len(palabra) > len(letras):\n",
    "            letras= palabra\n",
    "    print(letras)\n",
    "\n",
    "\n",
    "mas_larga(['guisante', 'coche', 'zanahoria', 'susto'])"
   ]
  },
  {
   "cell_type": "markdown",
   "id": "2f5586b1",
   "metadata": {},
   "source": [
    "### 36. Write a function filter_words() that takes a list of words and an integer n, and return words that have more than n characters."
   ]
  },
  {
   "cell_type": "code",
   "execution_count": null,
   "id": "ea7b7c1b",
   "metadata": {},
   "outputs": [],
   "source": [
    "def filtrar_palabras(lista, n):\n",
    "    \n",
    "    for palabras in lista:\n",
    "\n",
    "        if len(palabras) > n:\n",
    "            print(palabras)\n",
    "\n",
    "filtrar_palabras(['casa','sol','coche'], 3)"
   ]
  },
  {
   "cell_type": "markdown",
   "id": "55a8563a",
   "metadata": {},
   "source": [
    "### 37. Write a program that tells the user to enter a string. The program has to evaluate the string and say how many uppercase letters it has."
   ]
  },
  {
   "cell_type": "code",
   "execution_count": null,
   "id": "591bb7d2",
   "metadata": {},
   "outputs": [],
   "source": [
    "cadena=input('Ingrese una cadena de texto: ')\n",
    "\n",
    "def letras_mayusculas(cadena):\n",
    "    contador= 0\n",
    "    for letra in cadena:\n",
    "        if letra == letra.upper() != ' ':\n",
    "            contador += 1\n",
    "    print(contador)\n",
    "    \n",
    "\n",
    "\n",
    "letras_mayusculas(cadena)"
   ]
  },
  {
   "cell_type": "markdown",
   "id": "5dcc83ab",
   "metadata": {},
   "source": [
    "### 38. Build a small program that converts binary numbers to integers."
   ]
  },
  {
   "cell_type": "code",
   "execution_count": null,
   "id": "7675afb3",
   "metadata": {},
   "outputs": [],
   "source": [
    "def aDecimal(numeroBin):\n",
    "    numeroBin = str(numeroBin)\n",
    "    decimal = 0\n",
    "    exp = len (numeroBin) -1\n",
    "    for i in numeroBin:\n",
    "        decimal += (int(i) * 2**(exp))\n",
    "        exp = exp - 1\n",
    "    return decimal"
   ]
  },
  {
   "cell_type": "markdown",
   "id": "5150e555",
   "metadata": {},
   "source": [
    "### 39. Write a small program where: \n",
    "#### - Enter the current year.\n",
    "#### - Enter the name and year of birth of three people.\n",
    "#### - It is calculated how old they will be during the current year.\n",
    "#### - It is printed on the screen."
   ]
  },
  {
   "cell_type": "code",
   "execution_count": null,
   "id": "5465b344",
   "metadata": {},
   "outputs": [],
   "source": [
    "def edad ():\n",
    "    año_curso= int(input('Año en curso: '))\n",
    "    count= 1\n",
    "    while count <= 3:\n",
    "        nombre_alumno= input('Nombre del alumno: ')\n",
    "        año_naciemiento= int(input('Año nacimiento del alumno: '))\n",
    "        count += 1\n",
    "        print('Cumplira este año:',año_curso - año_naciemiento, 'años.')\n",
    "\n",
    "\n",
    "\n",
    "def main():\n",
    "    a_curso = int(input (\"Ingresa el año en curso: \"))\n",
    "    for i  in range (3):\n",
    "        nombre = input (\"Nombre de la persona: \")\n",
    "        nacimiento = int(input (\"Anio de nacimiento: \"))\n",
    "        print  (nombre, \"cumple\", (a_curso - nacimiento), \"anios en el\", a_curso)"
   ]
  },
  {
   "cell_type": "markdown",
   "id": "55062e3c",
   "metadata": {},
   "source": [
    "### 40. Define a tuple with 10 ages of people. Print the number of people aged over 20."
   ]
  },
  {
   "cell_type": "code",
   "execution_count": null,
   "id": "b83ab50e",
   "metadata": {},
   "outputs": [],
   "source": [
    "def mayor20(tup):\n",
    "    contador= 0\n",
    "    for i in tup:\n",
    "        if i > 20:\n",
    "            contador +=1\n",
    "    print(contador)\n",
    "\n",
    "mayor20((20, 45, 85, 12, 23, 8, 3, 47, 89, 4))"
   ]
  },
  {
   "cell_type": "markdown",
   "id": "3c5a4985",
   "metadata": {},
   "source": [
    "### 41. Define a list with a set of names, print how many begin with the letter a."
   ]
  },
  {
   "cell_type": "code",
   "execution_count": null,
   "id": "eaf6f5df",
   "metadata": {},
   "outputs": [],
   "source": [
    "def letra_comienzo():\n",
    "\n",
    "    x= int(input('Cuantos nombres quieres ingresar: '))\n",
    "    lista=[]\n",
    "\n",
    "    for i in range(x):\n",
    "        a= str(input('Ingresa un nombre: '))\n",
    "        lista.append(a)\n",
    "\n",
    "    print(lista)\n",
    "\n",
    "    letra= str(input('Porque letra comienza: '))\n",
    "    cont= 0\n",
    "\n",
    "    for nombre in lista:\n",
    "        if nombre[0] == letra.lower():\n",
    "                cont +=1\n",
    "    print(cont)\n",
    "\n",
    "letra_comienzo()"
   ]
  },
  {
   "cell_type": "markdown",
   "id": "225ad105",
   "metadata": {},
   "source": [
    "### 42. Create a function count_vowels(), which receives a word and counts how many letters \"a\" it has, how many letters \"e\" it has and so on until all the vowels are completed."
   ]
  },
  {
   "cell_type": "code",
   "execution_count": null,
   "id": "6512399b",
   "metadata": {},
   "outputs": [],
   "source": [
    "def contar_vocales():\n",
    "    \n",
    "    vocales= 'aeiou'\n",
    "    lista= str(input('Agrega una palabra: '))\n",
    "\n",
    "    for i in vocales:\n",
    "        cont=0\n",
    "        for letra in lista:\n",
    "            if letra.lower() == i:\n",
    "                cont += 1\n",
    "        print(f'Hay {cont} de {i}')\n",
    "\n",
    "    \n",
    "contar_vocales()"
   ]
  },
  {
   "cell_type": "markdown",
   "id": "119f557f",
   "metadata": {},
   "source": [
    "### 43. Write a function is_leap() that determines whether a given year is a leap year."
   ]
  },
  {
   "cell_type": "code",
   "execution_count": null,
   "id": "839a5f1f",
   "metadata": {},
   "outputs": [],
   "source": [
    "def es_bisiesto():\n",
    "    año= int(input('Ingresa un año: '))\n",
    "    if año % 4 == 0 or (año % 400 == año % 100):\n",
    "        print ('Es año bisiesto')\n",
    "    else:\n",
    "        print('No es año bisiesto')\n",
    "    \n",
    "\n",
    "es_bisiesto()"
   ]
  }
 ],
 "metadata": {
  "kernelspec": {
   "display_name": "Python 3",
   "language": "python",
   "name": "python3"
  },
  "language_info": {
   "codemirror_mode": {
    "name": "ipython",
    "version": 3
   },
   "file_extension": ".py",
   "mimetype": "text/x-python",
   "name": "python",
   "nbconvert_exporter": "python",
   "pygments_lexer": "ipython3",
   "version": "3.8.8"
  }
 },
 "nbformat": 4,
 "nbformat_minor": 5
}
